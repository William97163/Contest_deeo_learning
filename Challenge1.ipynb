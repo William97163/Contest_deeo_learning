{
 "cells": [
  {
   "cell_type": "markdown",
   "id": "72d6526a-e188-4980-bb19-d31e92fd5e8e",
   "metadata": {},
   "source": [
    "<div style=\"display: flex; background-color: RGB(255,114,0);\" >\n",
    "<h1 style=\"margin: auto; padding: 30px; \">Brief Deep learning </h1>\n",
    "</div>\n"
   ]
  },
  {
   "cell_type": "code",
   "execution_count": 34,
   "id": "97e205a5-256a-4dde-9669-be10b6c9a3e7",
   "metadata": {},
   "outputs": [],
   "source": [
    "import math"
   ]
  },
  {
   "cell_type": "code",
   "execution_count": 15,
   "id": "9e8155cd-aab0-4e5b-810d-555261384063",
   "metadata": {},
   "outputs": [],
   "source": [
    "X = [1, -3.1, -7.2, 2.1]"
   ]
  },
  {
   "cell_type": "code",
   "execution_count": 16,
   "id": "1ef5a94e-d702-4b0d-aa65-b5145dfe9145",
   "metadata": {},
   "outputs": [],
   "source": [
    "def lin_reg1(L):\n",
    "    result = - 3 + L[0] *2.1 + L[1]*1.2 + L[2] * 0.3 + L[3] * 1.3\n",
    "    return result"
   ]
  },
  {
   "cell_type": "code",
   "execution_count": 17,
   "id": "d7b2d400-8850-4018-a3f0-8d94e061c02e",
   "metadata": {},
   "outputs": [
    {
     "data": {
      "text/plain": [
       "-4.049999999999999"
      ]
     },
     "execution_count": 17,
     "metadata": {},
     "output_type": "execute_result"
    }
   ],
   "source": [
    "lin_reg1(X)"
   ]
  },
  {
   "cell_type": "code",
   "execution_count": 24,
   "id": "cfc056fb-a214-47db-86cd-7ae3c85372d4",
   "metadata": {},
   "outputs": [],
   "source": [
    "def activation(x):\n",
    "    if x > 0:\n",
    "        return x\n",
    "    else:\n",
    "        return 0"
   ]
  },
  {
   "cell_type": "code",
   "execution_count": 25,
   "id": "704299f9-0084-40a5-9fc1-a7d1632086ba",
   "metadata": {},
   "outputs": [
    {
     "data": {
      "text/plain": [
       "0"
      ]
     },
     "execution_count": 25,
     "metadata": {},
     "output_type": "execute_result"
    }
   ],
   "source": [
    "out_1 = activation(lin_reg1(X))\n",
    "out_1"
   ]
  },
  {
   "cell_type": "markdown",
   "id": "36b1642b-a028-4ab6-812c-6d79f2e120bf",
   "metadata": {},
   "source": [
    "<div style=\"border: 1px solid RGB(51,165,182);\" >\n",
    "<h3 style=\"margin: auto; padding: 20px; color: RGB(51,165,182); \">1 - Fonction general </h3>\n",
    "</div>"
   ]
  },
  {
   "cell_type": "code",
   "execution_count": 11,
   "id": "0d636869-8389-4331-afb7-bede80e61a0c",
   "metadata": {},
   "outputs": [],
   "source": [
    "def lin_reg(L, p1, p2, p3, p4, b):\n",
    "    result = b + L[0] * p1 + L[1]* p2 + L[2] * p3 + L[3] * p4\n",
    "    return result"
   ]
  },
  {
   "cell_type": "code",
   "execution_count": 28,
   "id": "71cab6eb-24cf-496e-bf49-c97b79fd9820",
   "metadata": {},
   "outputs": [
    {
     "data": {
      "text/plain": [
       "-22.68"
      ]
     },
     "execution_count": 28,
     "metadata": {},
     "output_type": "execute_result"
    }
   ],
   "source": [
    "lin_reg2 = lin_reg(X, 0.4, 2.6, 2.5, 3.8, -5)\n",
    "lin_reg2"
   ]
  },
  {
   "cell_type": "code",
   "execution_count": 29,
   "id": "2196d21e-ee43-4001-a7af-14da2398855b",
   "metadata": {},
   "outputs": [
    {
     "data": {
      "text/plain": [
       "0"
      ]
     },
     "execution_count": 29,
     "metadata": {},
     "output_type": "execute_result"
    }
   ],
   "source": [
    "out_2 = activation(lin_reg2)\n",
    "out_2"
   ]
  },
  {
   "cell_type": "code",
   "execution_count": 30,
   "id": "15a6c2b4-d592-457b-9aad-e174cbe5a36b",
   "metadata": {},
   "outputs": [
    {
     "data": {
      "text/plain": [
       "-25.679999999999996"
      ]
     },
     "execution_count": 30,
     "metadata": {},
     "output_type": "execute_result"
    }
   ],
   "source": [
    "lin_reg3 = lin_reg(X, 0.4, 2.6, 2.5, 3.8, -8)\n",
    "lin_reg3"
   ]
  },
  {
   "cell_type": "code",
   "execution_count": 31,
   "id": "5e6b842d-6fbb-4531-92cb-dfe9437e59fd",
   "metadata": {},
   "outputs": [
    {
     "data": {
      "text/plain": [
       "0"
      ]
     },
     "execution_count": 31,
     "metadata": {},
     "output_type": "execute_result"
    }
   ],
   "source": [
    "out_3 = activation(lin_reg3)\n",
    "out_3"
   ]
  },
  {
   "cell_type": "code",
   "execution_count": 32,
   "id": "1a978364-f36e-49f7-b1b1-23944fccc0c3",
   "metadata": {},
   "outputs": [],
   "source": [
    "def linreeg_next_layer(o1, o2, o3):\n",
    "    result = 5.1 + o1 * 1.1 + o2 * 4.1 + o3 * 0.7\n",
    "    return result"
   ]
  },
  {
   "cell_type": "code",
   "execution_count": 37,
   "id": "1801b8f8-d7dc-40c6-ad14-747cac775319",
   "metadata": {},
   "outputs": [],
   "source": [
    "def activation_next_layer(X):\n",
    "    return 1/(1 + math.exp(-X))"
   ]
  },
  {
   "cell_type": "code",
   "execution_count": 39,
   "id": "00b4c41d-418d-4ff4-8e08-af02a29b7cb5",
   "metadata": {},
   "outputs": [
    {
     "data": {
      "text/plain": [
       "0.9939401985084158"
      ]
     },
     "execution_count": 39,
     "metadata": {},
     "output_type": "execute_result"
    }
   ],
   "source": [
    "y_pred = activation_next_layer(linreeg_next_layer(out_1, out_2, out_3))\n",
    "y_pred"
   ]
  }
 ],
 "metadata": {
  "kernelspec": {
   "display_name": "Python 3 (ipykernel)",
   "language": "python",
   "name": "python3"
  },
  "language_info": {
   "codemirror_mode": {
    "name": "ipython",
    "version": 3
   },
   "file_extension": ".py",
   "mimetype": "text/x-python",
   "name": "python",
   "nbconvert_exporter": "python",
   "pygments_lexer": "ipython3",
   "version": "3.9.12"
  }
 },
 "nbformat": 4,
 "nbformat_minor": 5
}
